{
 "cells": [
  {
   "cell_type": "markdown",
   "metadata": {},
   "source": [
    "# Four Color Theorem using SAT\n",
    "\n",
    "In this notebook, we will illustrate the four color theorem using SAT solvers.\n",
    "\n",
    "The first few blocks of code will install and import the necessary libraries and load the necessary data. This notebook uses a reduced version of the [Natural Earth Data](https://www.naturalearthdata.com/downloads/110m-cultural-vectors/110m-admin-0-countries/)."
   ]
  },
  {
   "cell_type": "markdown",
   "metadata": {},
   "source": [
    "If you are working inside a conda environement, you should probably run this line as a preliminary step."
   ]
  },
  {
   "cell_type": "code",
   "execution_count": null,
   "metadata": {},
   "outputs": [],
   "source": [
    "# ONLY IF YOU ARE WORKING IN A CONDA ENVIRONEMENT\n",
    "%conda install pyproj"
   ]
  },
  {
   "cell_type": "code",
   "execution_count": null,
   "metadata": {},
   "outputs": [],
   "source": [
    "%pip install matplotlib python-sat pandas geopandas"
   ]
  },
  {
   "cell_type": "code",
   "execution_count": null,
   "metadata": {},
   "outputs": [],
   "source": [
    "import matplotlib.pyplot as plt\n",
    "from matplotlib.patches import Polygon\n",
    "from pysat.solvers import Glucose3\n",
    "import pandas as pd\n",
    "import geopandas as gpd"
   ]
  },
  {
   "cell_type": "markdown",
   "metadata": {},
   "source": [
    "## Part 1: Colouring the map of Europe"
   ]
  },
  {
   "cell_type": "code",
   "execution_count": null,
   "metadata": {},
   "outputs": [],
   "source": [
    "small_map = gpd.read_file(\"smaller_map/smaller_map.shp\")[[\"NAME\", \"geometry\"]].assign(COLOR=0)\n",
    "\n",
    "k = 4 # number of colors\n",
    "N = small_map.shape[0] # number of countries\n",
    "\n",
    "def show_map(data, ax):\n",
    "    ax.axis(\"off\")\n",
    "    data.plot(column = \"COLOR\", cmap=\"Pastel2\", edgecolor=\"black\", ax=ax)\n",
    "\n",
    "fig, ax = plt.subplots(1,1)\n",
    "show_map(small_map, ax)\n",
    "\n",
    "NEIGHBORS = [\n",
    "    [2, 3, 4, 5], # 0 France\n",
    "    [2, 3], # 1 Austria\n",
    "    [0, 1, 3, 4, 5, 6], # 2 Germany\n",
    "    [0, 1, 2], # 3 Switzerland\n",
    "    [0, 2, 5], # 4 Luxembourg\n",
    "    [0, 2, 4, 6], # 5 Belgium\n",
    "    [2, 5] # 6 Netherlands\n",
    "]\n",
    "\n"
   ]
  },
  {
   "cell_type": "markdown",
   "metadata": {},
   "source": [
    "### Creating the variables (and the SAT solver)\n",
    "\n",
    "To use our SAT solver, we will need to create the variables used to describe the solution.\n",
    "\n",
    "Like in the DIMACS file format, variables are simply strictly positive integers that each represent a different variable\n",
    "\n",
    "Like in the course material, we will use variable `p[i][j]` that will represent that country $i$ has color $j$ (and since we are in Python, $i$ and $j$ will start at $0$)"
   ]
  },
  {
   "cell_type": "code",
   "execution_count": null,
   "metadata": {},
   "outputs": [],
   "source": [
    "# helper function to create unique variables\n",
    "VARIABLE_COUNT = 0\n",
    "def getNewVariable():\n",
    "    global VARIABLE_COUNT\n",
    "    VARIABLE_COUNT += 1\n",
    "    return VARIABLE_COUNT\n",
    "\n",
    "# Create the SAT solver instance\n",
    "solver = Glucose3() \n",
    "\n",
    "# Create our array of variables\n",
    "VARIABLES = [[getNewVariable() for j in range(k)] for i in range(N)]"
   ]
  },
  {
   "cell_type": "markdown",
   "metadata": {},
   "source": [
    "### First contraint : Each country has one color\n",
    "\n",
    "We have to make sure that each country has exactly one color. This done by creating a clause so that each country has **at least** one color and then clauses so that each country has **at most** one color\n",
    "\n",
    "#### At least 1 color\n",
    "\n",
    "This is done by first adding a clause for each country of the form\n",
    "\n",
    "$$p_{i,0} \\lor \\ldots \\lor p_{i,k-1}$$\n",
    "\n",
    "Indeed, to make this clause true, it suffises that one $p_{i,j}$ is true.\n",
    "\n",
    "#### At most 1 color\n",
    "\n",
    "This is done by adding the following clauses for each country $i$ and for each pair of different colors $(j_1, j_2)$ \n",
    "\n",
    "$$\\lnot p_{i, j_1} \\lor \\lnot p_{i, j_2}$$\n",
    "\n",
    "Indeed, to make all these clauses true, we need at least $k-1$ variables to be set to false. This ensures that at most $1$ is true.\n",
    "\n",
    "#### Encoding these clauses \n",
    "\n",
    "To add clauses to our solver, one needs to use the `add_clause` method. This method requires a list of variables, and will add a clause using the given variables. If you wish to use the negated variable inside the clause, you need to negate it in the list\n",
    "\n",
    "E.g. to encode $\\lnot p_{1, 1} \\lor p_{2, 2}$ you have to use `solver.add_clause([ -p[1][1], p[2][2] ])`"
   ]
  },
  {
   "cell_type": "code",
   "execution_count": null,
   "metadata": {},
   "outputs": [],
   "source": [
    "def exactly_one_color_for_each_country(solver, variables, N, k):\n",
    "    # YOUR CODE HERE\n",
    "    return\n",
    "        \n",
    "\n",
    "# (Incomplete) Test to see if the encoding is correct\n",
    "\n",
    "exactly_one_color_for_each_country(solver, VARIABLES, N, k)\n",
    "result = solver.solve([VARIABLES[0][0], VARIABLES[0][1]])\n",
    "if result == True:\n",
    "    print(\"Your clauses are not correct, as we assumed that the first country has color 0 and color 1\")\n",
    "    print(\"To retry new clauses, make sure to rerun the previous cell\")\n",
    "elif result == None:\n",
    "    print(\"There is a problem with the solver\")"
   ]
  },
  {
   "cell_type": "markdown",
   "metadata": {},
   "source": [
    "If we were to ask the SAT solver for a model right now, we would not have a sensible solution, as we did not encode the borders inside our model yet.\n",
    "\n",
    "### Second constraint : different colors for bordering countries\n",
    "\n",
    "To encode this we will add clauses for each color $j$, that indicates that neighboring countries ($i_1, i_2$) cannot both have color $j$. These clauses will look like\n",
    "\n",
    "$$\\lnot p_{i_1, j} \\lor \\lnot p_{i_2, j}$$"
   ]
  },
  {
   "cell_type": "code",
   "execution_count": null,
   "metadata": {},
   "outputs": [],
   "source": [
    "def different_colors_for_bordering_countries(solver, variables, N, k, neighbors):\n",
    "    # YOUR CODE HERE\n",
    "    return\n",
    "\n",
    "# (Incomplete) Test to see if the contraints are correct\n",
    "different_colors_for_bordering_countries(solver, VARIABLES, N, k, NEIGHBORS)\n",
    "\n",
    "result = solver.solve([VARIABLES[0][0], VARIABLES[2][0]])\n",
    "if result == True:\n",
    "    print(\"Your clauses are not correct, as we assumed that the 2 neighbouring countries had the same color\")\n",
    "    print(\"To retry new clauses, make sure to rerun the two previous cells\")\n",
    "elif result == None:\n",
    "    print(\"There is a problem with the solver\")"
   ]
  },
  {
   "cell_type": "markdown",
   "metadata": {},
   "source": [
    "Now all the necessary clauses are set, we can ask the SAT solver to find a model (if one exists)."
   ]
  },
  {
   "cell_type": "code",
   "execution_count": null,
   "metadata": {},
   "outputs": [],
   "source": [
    "result = solver.solve()\n",
    "\n",
    "if result == True:\n",
    "    print(\"There is a solution\")\n",
    "elif result == False:\n",
    "    print(\"There is no solution\")\n",
    "else:\n",
    "    print(\"There was an error during the solve\")"
   ]
  },
  {
   "cell_type": "markdown",
   "metadata": {},
   "source": [
    "If all went correctly, there should be a solution (unless the theorem that was proven true is wrong).\n",
    "\n",
    "### The resulting coloring\n",
    "\n",
    "Since there is a solution, we can ask the solver to give us a model, and draw the map with different colors."
   ]
  },
  {
   "cell_type": "code",
   "execution_count": null,
   "metadata": {},
   "outputs": [],
   "source": [
    "model = solver.get_model()\n",
    "\n",
    "for i in range(N):\n",
    "    for j in range(k):\n",
    "        if model[ VARIABLES[i][j] -1] > 0: #if variable p[i][j] is True in this model/interpretation\n",
    "            small_map.at[i, \"COLOR\"] = j\n",
    "\n",
    "fig, ax = plt.subplots(1,1)\n",
    "\n",
    "show_map(small_map, ax)\n",
    "\n",
    "small_map[[\"NAME\", \"COLOR\"]]"
   ]
  },
  {
   "cell_type": "markdown",
   "metadata": {},
   "source": [
    "As you can see, we have colored the map using 4 colors such that each neighboring country do not have the same color.\n",
    "\n",
    "### Small Bonus : keep France green\n",
    "\n",
    "How would you make sure that France ($i = 0$) keeps the original green color ($j = 0$)?\n",
    "\n",
    "Try to force some other colors and see if the SAT solver can still find a solution."
   ]
  },
  {
   "cell_type": "code",
   "execution_count": null,
   "metadata": {},
   "outputs": [],
   "source": [
    "# YOUR CODE HERE\n",
    "\n",
    "# Do not modify\n",
    "result = solver.solve()\n",
    "if result == True:\n",
    "    model = solver.get_model()\n",
    "\n",
    "    for i in range(N):\n",
    "        for j in range(k):\n",
    "            if model[ VARIABLES[i][j] -1] > 0: #if variable p[i][j] is True in this model/interpretation\n",
    "                small_map.at[i, \"COLOR\"] = j\n",
    "\n",
    "    fig, ax = plt.subplots(1,1)\n",
    "\n",
    "    show_map(small_map, ax)\n",
    "    print(small_map[[\"NAME\", \"COLOR\"]])\n",
    "else:\n",
    "    print(\"No solution\")"
   ]
  },
  {
   "cell_type": "markdown",
   "metadata": {},
   "source": [
    "## Part 2: a counter-example to MacGregor theorem?\n",
    "MacGregor theorem (aka four colors theorem) states that any map can be colored with 4 colors. In 1975, Martin Gardner claimed that he found a counter-example to this theorem. The cell below plots his counter-example."
   ]
  },
  {
   "cell_type": "code",
   "execution_count": null,
   "metadata": {
    "scrolled": true
   },
   "outputs": [],
   "source": [
    "# DO NOT MODIFY\n",
    "\n",
    "# Dictionnary of colors\n",
    "COLOR_CODE = {\n",
    "    0: 'red',\n",
    "    1: 'cyan',\n",
    "    2: 'pink',\n",
    "    3: 'purple',\n",
    "    -1: 'white'\n",
    "}\n",
    "\n",
    "# Function to read zones, labels and add colors into DataFrames\n",
    "def read_zones_from_csv(filename):\n",
    "    data = pd.read_csv(filename, dtype={'Label': str})\n",
    "\n",
    "    vertices = data[data['Type'] == 'vertex'].copy()\n",
    "    labels = data[data['Type'] == 'label'].copy()\n",
    "\n",
    "    vertices_grouped = (\n",
    "        vertices.groupby('ZoneID')[['X', 'Y']]\n",
    "        .apply(lambda group: list(zip(group['X'], group['Y']))) # Make list of tuples (X,Y)\n",
    "        .reset_index(name='Vertices')\n",
    "    )\n",
    "\n",
    "    vertices_grouped['Color'] = COLOR_CODE[-1]  # Default color is white (not considered as one of the four colors)\n",
    "\n",
    "    labels = labels.rename(columns={'X': 'LabelX', 'Y': 'LabelY'})\n",
    "    zones_df = pd.merge(vertices_grouped, labels[['ZoneID', 'LabelX', 'LabelY', 'Label']],\n",
    "                        on='ZoneID', how='left')\n",
    "\n",
    "    return zones_df\n",
    "\n",
    "# Function to draw zones with specific labels and colors\n",
    "def draw_zones_with_labels(zones_df):\n",
    "    fig, ax = plt.subplots(figsize=(6, 6))\n",
    "\n",
    "    # Draw each zone\n",
    "    for _, row in zones_df.iterrows():\n",
    "        polygon = Polygon(row['Vertices'], closed=True, fill=True, alpha=0.5, edgecolor='black')\n",
    "        polygon.set_facecolor(row['Color']) # Add color\n",
    "        ax.add_patch(polygon)\n",
    "\n",
    "        if not pd.isna(row['Label']):\n",
    "            ax.text(row['LabelX'], row['LabelY'], row['Label'], fontsize=9,\n",
    "                    ha='center', va='center', color='black') # Add label\n",
    "    \n",
    "    ax.set_xlim(-20, 240)\n",
    "    ax.set_ylim(-20, 230)\n",
    "    ax.axis('off')\n",
    "    plt.show()\n",
    "\n",
    "filename = 'zones.csv'\n",
    "zones_df = read_zones_from_csv(filename)\n",
    "draw_zones_with_labels(zones_df)\n"
   ]
  },
  {
   "cell_type": "markdown",
   "metadata": {},
   "source": [
    "Let us check whether this map is indeed a counter-example fo the theorem. We proceed in the same way as for the map of Europe. We create the SAT solver, the variables and we encode the constraints: exactly one color for each country and different colors for bordering countries."
   ]
  },
  {
   "cell_type": "code",
   "execution_count": null,
   "metadata": {},
   "outputs": [],
   "source": [
    "# DO NOT MODIFY\n",
    "import adjacent_zones as az\n",
    "\n",
    "N = len(zones_df) # Number of zones\n",
    "k = 4 # Number of colors\n",
    "\n",
    "# Create the SAT solver instance\n",
    "solver = Glucose3() \n",
    "\n",
    "# Create our array of variables\n",
    "VARIABLE_COUNT = 0\n",
    "VARIABLES = [[getNewVariable() for j in range(k)] for i in range(N)]\n",
    "\n",
    "# List of the set of adjacent zones\n",
    "NEIGHBORS = az.get_adjacent_zones()\n",
    "\n",
    "exactly_one_color_for_each_country(solver, VARIABLES, N, k)\n",
    "different_colors_for_bordering_countries(solver, VARIABLES, N, k, NEIGHBORS)"
   ]
  },
  {
   "cell_type": "markdown",
   "metadata": {},
   "source": [
    "We now check whether the map of Martin Gardner is indeed a counter-example."
   ]
  },
  {
   "cell_type": "code",
   "execution_count": null,
   "metadata": {},
   "outputs": [],
   "source": [
    "# DO NOT MODIFY\n",
    "\n",
    "solution = solver.solve()\n",
    "\n",
    "if solution == False:\n",
    "    print(\"The provided counter-example is valid!\")\n",
    "elif solution == True:\n",
    "    print(\"There is a solution, so the counter-example is not valid!\")\n",
    "else:\n",
    "    print(\"Solver encountered an issue.\")"
   ]
  },
  {
   "cell_type": "markdown",
   "metadata": {},
   "source": [
    "Since there is a solution, the counter-example of Martin Gardner is wrong. The theorem has been proven correct in 2005, hence such a counter-example does not exist! The cell below plots the coloring of the map proposed by Martin Gardner (there might exist other solutions)."
   ]
  },
  {
   "cell_type": "code",
   "execution_count": null,
   "metadata": {
    "scrolled": true
   },
   "outputs": [],
   "source": [
    "# DO NOT MODIFY\n",
    "\n",
    "model = solver.get_model() # Get the model that satisfies the clauses\n",
    "for i in range(N):\n",
    "    for j in range(k):\n",
    "        if model[VARIABLES[i][j] - 1] > 0: # If proposition p[i][j] is True\n",
    "            zones_df.at[i, 'Color'] = COLOR_CODE[j] # Zone i has the color j\n",
    "\n",
    "draw_zones_with_labels(zones_df)"
   ]
  },
  {
   "cell_type": "markdown",
   "metadata": {},
   "source": [
    "### Bonus: how to generate other solutions?\n",
    "Try to generate other colorings of this map. Hint: you can repeatedly compute a new model, by constraining the solver to never compute a model already seen before."
   ]
  },
  {
   "cell_type": "code",
   "execution_count": null,
   "metadata": {},
   "outputs": [],
   "source": [
    "solver.solve()\n",
    "model = solver.get_model()\n",
    "\n",
    "# YOUR CODE HERE\n",
    "\n",
    "solver.solve()\n",
    "model2 = solver.get_model()\n",
    "\n",
    "print(\"New solution: \")\n",
    "for i in range(N):\n",
    "    for j in range(k):\n",
    "        if model2[VARIABLES[i][j] - 1] > 0: # If proposition p[i][j] is True\n",
    "            zones_df.at[i, 'Color'] = COLOR_CODE[j] # Zone i has the color j\n",
    "\n",
    "draw_zones_with_labels(zones_df)\n",
    "for i in range(N):\n",
    "    for j in range(k):\n",
    "        if model[VARIABLES[i][j] - 1] != model2[VARIABLES[i][j] - 1]:\n",
    "            print(\"The models differ for zone \" + str(i))\n",
    "            break"
   ]
  }
 ],
 "metadata": {
  "kernelspec": {
   "display_name": "Python 3 (ipykernel)",
   "language": "python",
   "name": "python3"
  },
  "language_info": {
   "codemirror_mode": {
    "name": "ipython",
    "version": 3
   },
   "file_extension": ".py",
   "mimetype": "text/x-python",
   "name": "python",
   "nbconvert_exporter": "python",
   "pygments_lexer": "ipython3",
   "version": "3.11.13"
  }
 },
 "nbformat": 4,
 "nbformat_minor": 4
}
